{
 "cells": [
  {
   "cell_type": "markdown",
   "id": "42cd6588",
   "metadata": {},
   "source": [
    "# CA2 Part0: "
   ]
  },
  {
   "cell_type": "markdown",
   "id": "c9c8620f",
   "metadata": {},
   "source": [
    "## PCA based data distribution visualization"
   ]
  },
  {
   "cell_type": "code",
   "execution_count": 18,
   "id": "be9b1c81",
   "metadata": {},
   "outputs": [],
   "source": [
    "import os\n",
    "import sys\n",
    "import cv2\n",
    "import numpy as np\n",
    "import json\n",
    "%matplotlib inline\n",
    "import matplotlib.pyplot as plt"
   ]
  },
  {
   "cell_type": "code",
   "execution_count": 19,
   "id": "56b2a261",
   "metadata": {
    "scrolled": false
   },
   "outputs": [
    {
     "name": "stdout",
     "output_type": "stream",
     "text": [
      "61\n",
      "59\n",
      "66\n",
      "50\n",
      "68\n",
      "57\n",
      "32\n",
      "35\n",
      "56\n",
      "51\n",
      "58\n",
      "67\n",
      "60\n",
      "34\n",
      "33\n",
      ".DS_Store\n",
      "20\n",
      "18\n",
      "27\n",
      "9\n",
      "11\n",
      "7\n",
      "29\n",
      "16\n",
      "42\n",
      "45\n",
      "6\n",
      "28\n",
      "17\n",
      "1\n",
      "10\n",
      "19\n",
      "26\n",
      "8\n",
      "21\n",
      "44\n",
      "43\n",
      "38\n",
      "36\n",
      "31\n",
      "65\n",
      "62\n",
      "54\n",
      "53\n",
      "30\n",
      "37\n",
      "json\n",
      "39\n",
      "52\n",
      "55\n",
      "63\n",
      "64\n",
      "Me\n",
      "46\n",
      "41\n",
      "48\n",
      "24\n",
      "23\n",
      "4\n",
      "15\n",
      "3\n",
      "12\n",
      "49\n",
      "40\n",
      "47\n",
      "2\n",
      "13\n",
      "5\n",
      "14\n",
      "22\n",
      "25\n"
     ]
    }
   ],
   "source": [
    "# load current directory\n",
    "cur_dir = os.path.dirname(os.path.abspath(\"CA2_Part1.ipynb\"))\n",
    "# PIE directory\n",
    "PIE_dir = cur_dir + '/PIE'\n",
    "# load json folder\n",
    "json_dir = PIE_dir + '/json'\n",
    "\n",
    "# load data\n",
    "libnames = os.listdir(PIE_dir)\n",
    "for folder in libnames:\n",
    "    folder_dir = PIE_dir + '/' + folder\n",
    "    print(folder)\n",
    "    if folder == '.DS_Store':\n",
    "        continue\n",
    "    elif folder == 'json':\n",
    "        continue\n",
    "    elif folder == 'Me':\n",
    "        continue\n",
    "    file_list = os.listdir(folder_dir)\n",
    "    \n",
    "    # read images\n",
    "    IMG = []\n",
    "    for img_name in file_list:\n",
    "        img_path = folder_dir + '/' + img_name\n",
    "        im = cv2.imread(img_path,cv2.IMREAD_GRAYSCALE)\n",
    "        IMG.append(im.tolist())\n",
    "\n",
    "    # json data store\n",
    "    data_dir = json_dir + '/' + folder\n",
    "    with open(data_dir,'w') as f:\n",
    "        json.dump(IMG,f)"
   ]
  },
  {
   "cell_type": "code",
   "execution_count": 1,
   "id": "40198835",
   "metadata": {
    "ExecuteTime": {
     "end_time": "2023-05-10T08:27:07.220103Z",
     "start_time": "2023-05-10T08:27:07.055994Z"
    }
   },
   "outputs": [
    {
     "ename": "NameError",
     "evalue": "name 'os' is not defined",
     "output_type": "error",
     "traceback": [
      "\u001b[0;31m---------------------------------------------------------------------------\u001b[0m",
      "\u001b[0;31mNameError\u001b[0m                                 Traceback (most recent call last)",
      "Cell \u001b[0;32mIn[1], line 3\u001b[0m\n\u001b[1;32m      1\u001b[0m \u001b[38;5;66;03m# reshape my photo\u001b[39;00m\n\u001b[1;32m      2\u001b[0m \u001b[38;5;66;03m# load current directory\u001b[39;00m\n\u001b[0;32m----> 3\u001b[0m cur_dir \u001b[38;5;241m=\u001b[39m \u001b[43mos\u001b[49m\u001b[38;5;241m.\u001b[39mpath\u001b[38;5;241m.\u001b[39mdirname(os\u001b[38;5;241m.\u001b[39mpath\u001b[38;5;241m.\u001b[39mabspath(\u001b[38;5;124m\"\u001b[39m\u001b[38;5;124mCA2_Part1.ipynb\u001b[39m\u001b[38;5;124m\"\u001b[39m))\n\u001b[1;32m      4\u001b[0m \u001b[38;5;66;03m# PIE directory\u001b[39;00m\n\u001b[1;32m      5\u001b[0m PIE_dir \u001b[38;5;241m=\u001b[39m cur_dir \u001b[38;5;241m+\u001b[39m \u001b[38;5;124m'\u001b[39m\u001b[38;5;124m/PIE\u001b[39m\u001b[38;5;124m'\u001b[39m\n",
      "\u001b[0;31mNameError\u001b[0m: name 'os' is not defined"
     ]
    }
   ],
   "source": [
    "# reshape my photo\n",
    "# load current directory\n",
    "cur_dir = os.path.dirname(os.path.abspath(\"CA2_Part1.ipynb\"))\n",
    "# PIE directory\n",
    "PIE_dir = cur_dir + '/PIE'\n",
    "# load Me folder\n",
    "me_dir = PIE_dir + '/Me'\n",
    "file_list = os.listdir(me_dir)\n",
    "file_list.remove('.DS_Store')\n",
    "print(file_list)\n",
    "\n",
    "IMG = []\n",
    "for img_name in file_list:\n",
    "    img_path = me_dir + '/' + img_name\n",
    "    im = cv2.imread(img_path,cv2.IMREAD_GRAYSCALE)\n",
    "    plt.imshow(im,'gray')\n",
    "    im_re = cv2.resize(im, (32, 32))\n",
    "    IMG.append(im_re.tolist())"
   ]
  },
  {
   "cell_type": "code",
   "execution_count": null,
   "id": "5eba1b89",
   "metadata": {
    "ExecuteTime": {
     "end_time": "2023-05-10T08:27:07.221584Z",
     "start_time": "2023-05-10T08:27:07.221578Z"
    }
   },
   "outputs": [],
   "source": [
    "plt.imshow(IMG[0],'gray')"
   ]
  },
  {
   "cell_type": "code",
   "execution_count": 22,
   "id": "0c487a7e",
   "metadata": {},
   "outputs": [],
   "source": [
    "# load json folder\n",
    "json_dir = PIE_dir + '/json'\n",
    "# json data store\n",
    "data_dir = json_dir + '/Me'\n",
    "with open(data_dir,'w') as f:\n",
    "    json.dump(IMG,f)"
   ]
  },
  {
   "cell_type": "code",
   "execution_count": 16,
   "id": "f4fbf773",
   "metadata": {},
   "outputs": [],
   "source": [
    "# load current directory\n",
    "cur_dir = os.path.dirname(os.path.abspath(\"CA2_Part1.ipynb\"))\n",
    "# PIE directory\n",
    "PIE_dir = cur_dir + '/PIE'\n",
    "# load json folder\n",
    "json_dir = PIE_dir + '/json'\n",
    "# read json files' name\n",
    "datanames = os.listdir(json_dir)\n",
    "datanames.remove('Me')\n",
    "\n",
    "# load all PIE data\n",
    "PIE_img = []\n",
    "person = datanames[0]\n",
    "jsonfile = open(json_dir+'/'+person)\n",
    "img = json.load(jsonfile)"
   ]
  }
 ],
 "metadata": {
  "kernelspec": {
   "display_name": "Python 3 (ipykernel)",
   "language": "python",
   "name": "python3"
  },
  "language_info": {
   "codemirror_mode": {
    "name": "ipython",
    "version": 3
   },
   "file_extension": ".py",
   "mimetype": "text/x-python",
   "name": "python",
   "nbconvert_exporter": "python",
   "pygments_lexer": "ipython3",
   "version": "3.10.9"
  },
  "toc": {
   "base_numbering": 1,
   "nav_menu": {},
   "number_sections": true,
   "sideBar": true,
   "skip_h1_title": false,
   "title_cell": "Table of Contents",
   "title_sidebar": "Contents",
   "toc_cell": false,
   "toc_position": {},
   "toc_section_display": true,
   "toc_window_display": false
  },
  "varInspector": {
   "cols": {
    "lenName": 16,
    "lenType": 16,
    "lenVar": 40
   },
   "kernels_config": {
    "python": {
     "delete_cmd_postfix": "",
     "delete_cmd_prefix": "del ",
     "library": "var_list.py",
     "varRefreshCmd": "print(var_dic_list())"
    },
    "r": {
     "delete_cmd_postfix": ") ",
     "delete_cmd_prefix": "rm(",
     "library": "var_list.r",
     "varRefreshCmd": "cat(var_dic_list()) "
    }
   },
   "types_to_exclude": [
    "module",
    "function",
    "builtin_function_or_method",
    "instance",
    "_Feature"
   ],
   "window_display": false
  }
 },
 "nbformat": 4,
 "nbformat_minor": 5
}
